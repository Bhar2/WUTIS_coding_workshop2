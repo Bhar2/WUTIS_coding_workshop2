{
 "cells": [
  {
   "cell_type": "markdown",
   "metadata": {},
   "source": [
    "### Some data types"
   ]
  },
  {
   "cell_type": "code",
   "execution_count": 41,
   "metadata": {},
   "outputs": [],
   "source": [
    "my_string = \"ninety\" # avoid using the variable name string because it refers to the datatype itself\n",
    "my_integer = 4632\n",
    "my_float = 2731.549\n",
    "my_list = [my_string, my_integer, my_float]\n",
    "my_list2 = [\"ninety\", 4632, 2731.549]\n",
    "my_list3 = [\"ninety\", 2731.549, 4632]"
   ]
  },
  {
   "cell_type": "markdown",
   "metadata": {},
   "source": [
    "#### Lists and sets"
   ]
  },
  {
   "cell_type": "code",
   "execution_count": 28,
   "metadata": {},
   "outputs": [
    {
     "data": {
      "text/plain": [
       "{1, 2, 5}"
      ]
     },
     "execution_count": 28,
     "metadata": {},
     "output_type": "execute_result"
    }
   ],
   "source": [
    "my_new_list = [1, 1, 1, 2, 5, 1, 2]\n",
    "set(my_new_list)"
   ]
  },
  {
   "cell_type": "markdown",
   "metadata": {},
   "source": [
    "#### Dictionary"
   ]
  },
  {
   "cell_type": "code",
   "execution_count": null,
   "metadata": {},
   "outputs": [],
   "source": [
    "import math\n",
    "my_dict = {                              #dictionaries can be \n",
    "    \"secret\" : 42,\n",
    "    \"smallest_prime\" : 2,\n",
    "    \"largest_prime\" : \"unknown\",\n",
    "    \"not_an_int\" : math.pi\n",
    "}\n",
    "my_dict[\"new_element\"] = my_new_list\n",
    "my_dict.items()"
   ]
  },
  {
   "cell_type": "code",
   "execution_count": null,
   "metadata": {},
   "outputs": [],
   "source": [
    "my_dict[\"not_an_int\"] #This is how we access a value in the dictionary by passing the key "
   ]
  },
  {
   "cell_type": "code",
   "execution_count": null,
   "metadata": {},
   "outputs": [],
   "source": [
    "print(len(my_dict))"
   ]
  },
  {
   "cell_type": "markdown",
   "metadata": {},
   "source": [
    "#### Comparing lists"
   ]
  },
  {
   "cell_type": "code",
   "execution_count": 27,
   "metadata": {},
   "outputs": [
    {
     "name": "stdout",
     "output_type": "stream",
     "text": [
      "True\n",
      "False\n",
      "True\n"
     ]
    }
   ],
   "source": [
    "print(my_list == my_list2) #is the first list the same as the second one? Yes, because it contains the same elements at the same positions\n",
    "print(my_list == my_list3) #not the same as the order has been altered\n",
    "print(my_list != my_list3) # the exclamation mark stands for \"not\" (so \"=\" : is (assignment), \"==\" : is equal, \"!=\" : not equal)"
   ]
  },
  {
   "cell_type": "markdown",
   "metadata": {},
   "source": [
    "#### Using indices (more options in Pandas for tabular data types)"
   ]
  },
  {
   "cell_type": "code",
   "execution_count": 43,
   "metadata": {},
   "outputs": [
    {
     "name": "stdout",
     "output_type": "stream",
     "text": [
      "Let us find the 1st element in the following list: ['ninety', 4632, 2731.549]\n",
      "ninety\n",
      "What is its last element?\n",
      "2731.549\n",
      "Does this work for strings as well? - What is the 3rd character in: ninety?\n",
      "n\n",
      "Can we get longer sections?\n",
      "net\n"
     ]
    }
   ],
   "source": [
    "print(\"Let us find the 1st element in the following list: \" + str(my_list))\n",
    "print(my_list[0]) #1st element is at the 0th position\n",
    "\n",
    "print(\"What is its last element?\")\n",
    "print(my_list[-1]) #last element is at the minus first position\n",
    "\n",
    "print(\"Does this work for strings as well?\"\" - What is the 3rd character in: \"  + my_string + \"?\")\n",
    "print(my_string[2]) #strings are also indexed\n",
    "\n",
    "print(\"Can we get longer sections?\")\n",
    "print(my_string[2:5]) # when we want multiple elements, the last one is not in the selection (!!)"
   ]
  },
  {
   "cell_type": "code",
   "execution_count": 10,
   "metadata": {},
   "outputs": [
    {
     "ename": "KeyError",
     "evalue": "3",
     "output_type": "error",
     "traceback": [
      "\u001b[1;31m---------------------------------------------------------------------------\u001b[0m",
      "\u001b[1;31mKeyError\u001b[0m                                  Traceback (most recent call last)",
      "\u001b[1;32mc:\\Users\\osbpaksi\\Desktop\\easy_intro.ipynb Cell 8\u001b[0m in \u001b[0;36m<cell line: 1>\u001b[1;34m()\u001b[0m\n\u001b[1;32m----> <a href='vscode-notebook-cell:/c%3A/Users/osbpaksi/Desktop/easy_intro.ipynb#X11sZmlsZQ%3D%3D?line=0'>1</a>\u001b[0m my_dict[\u001b[39m3\u001b[39;49m]\n",
      "\u001b[1;31mKeyError\u001b[0m: 3"
     ]
    }
   ],
   "source": [
    "print(my_dict[3])  # dictionaries cannot be accessed this way"
   ]
  },
  {
   "cell_type": "code",
   "execution_count": 22,
   "metadata": {},
   "outputs": [
    {
     "name": "stdout",
     "output_type": "stream",
     "text": [
      "not_an_int\n",
      "not_an_int\n",
      "3.141592653589793\n"
     ]
    }
   ],
   "source": [
    "print(list(my_dict)[3]) #if absolutely necessary, we can use lists or loops to access items without keys but this is not the purpose of dicts\n",
    "print(list(my_dict.keys())[3])\n",
    "print(list(my_dict.values())[3])"
   ]
  }
 ],
 "metadata": {
  "kernelspec": {
   "display_name": "Python 3.9.12 ('base')",
   "language": "python",
   "name": "python3"
  },
  "language_info": {
   "codemirror_mode": {
    "name": "ipython",
    "version": 3
   },
   "file_extension": ".py",
   "mimetype": "text/x-python",
   "name": "python",
   "nbconvert_exporter": "python",
   "pygments_lexer": "ipython3",
   "version": "3.9.12"
  },
  "orig_nbformat": 4,
  "vscode": {
   "interpreter": {
    "hash": "bb318824fcc1130468553cfafd6c4ae412683daf6bea29efe37346a44b37e8a4"
   }
  }
 },
 "nbformat": 4,
 "nbformat_minor": 2
}
